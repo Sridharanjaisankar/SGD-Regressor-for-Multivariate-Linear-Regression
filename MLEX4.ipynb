{
 "cells": [
  {
   "cell_type": "code",
   "execution_count": null,
   "id": "79b17442-1f40-4dfe-b882-cf446f3c226e",
   "metadata": {},
   "outputs": [],
   "source": [
    "print(\"Name: Sridharan J\")\n",
    "print(\"Reg No: 21222040158\")"
   ]
  },
  {
   "cell_type": "code",
   "execution_count": 1,
   "id": "30cdafc6-e749-4562-8011-e7f6a442b0a6",
   "metadata": {},
   "outputs": [
    {
     "name": "stdout",
     "output_type": "stream",
     "text": [
      "[[ 1.28770041 35.80410048]\n",
      " [ 1.41069248 35.4991035 ]\n",
      " [ 1.69551631 35.534413  ]\n",
      " ...\n",
      " [ 1.85611145 35.56605352]\n",
      " [ 2.39013845 35.4724415 ]\n",
      " [ 2.6038958  35.52130587]]\n",
      "Mean Squared Error: 2.5755881101388023\n",
      "\n",
      "Predictions:\n",
      " [[ 1.28770041 35.80410048]\n",
      " [ 1.41069248 35.4991035 ]\n",
      " [ 1.69551631 35.534413  ]\n",
      " [ 1.51142279 35.697646  ]\n",
      " [ 0.87625525 35.52242179]]\n"
     ]
    }
   ],
   "source": [
    "import numpy as np\n",
    "from sklearn.datasets import fetch_california_housing\n",
    "from sklearn.linear_model import SGDRegressor\n",
    "from sklearn.multioutput import MultiOutputRegressor\n",
    "from sklearn.model_selection import train_test_split\n",
    "from sklearn.metrics import mean_squared_error\n",
    "from sklearn.preprocessing import StandardScaler\n",
    "data = fetch_california_housing()\n",
    "x= data.data[:,:3]\n",
    "y=np.column_stack((data.target,data.data[:,6]))\n",
    "x_train, x_test, y_train,y_test = train_test_split(x,y, test_size = 0.2)\n",
    "scaler_x = StandardScaler()\n",
    "scaler_y = StandardScaler()\n",
    "x_train = scaler_x.fit_transform(x_train)\n",
    "x_test = scaler_x.fit_transform(x_test)\n",
    "y_train = scaler_y.fit_transform(y_train)\n",
    "y_test = scaler_y.fit_transform(y_test)\n",
    "sgd = SGDRegressor(max_iter=1000, tol = 1e-3)\n",
    "multi_output_sgd= MultiOutputRegressor(sgd)\n",
    "multi_output_sgd.fit(x_train, y_train)\n",
    "y_pred =multi_output_sgd.predict(x_test)\n",
    "y_pred = scaler_y.inverse_transform(y_pred)\n",
    "y_test = scaler_y.inverse_transform(y_test)\n",
    "print(y_pred)\n",
    "mse = mean_squared_error(y_test,y_pred)\n",
    "print(\"Mean Squared Error:\",mse)\n",
    "print(\"\\nPredictions:\\n\",y_pred[:5])"
   ]
  },
  {
   "cell_type": "code",
   "execution_count": null,
   "id": "7c20a337-5f57-415f-a9b9-5106c93cb710",
   "metadata": {},
   "outputs": [],
   "source": [
    "print(\"Name: Sridharan J\")\n",
    "print(\"Reg No: 21222040158\")"
   ]
  }
 ],
 "metadata": {
  "kernelspec": {
   "display_name": "Python [conda env:base] *",
   "language": "python",
   "name": "conda-base-py"
  },
  "language_info": {
   "codemirror_mode": {
    "name": "ipython",
    "version": 3
   },
   "file_extension": ".py",
   "mimetype": "text/x-python",
   "name": "python",
   "nbconvert_exporter": "python",
   "pygments_lexer": "ipython3",
   "version": "3.12.7"
  }
 },
 "nbformat": 4,
 "nbformat_minor": 5
}
